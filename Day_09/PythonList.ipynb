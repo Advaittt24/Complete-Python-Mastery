{
 "cells": [
  {
   "cell_type": "code",
   "execution_count": 1,
   "metadata": {},
   "outputs": [
    {
     "name": "stdout",
     "output_type": "stream",
     "text": [
      "[]\n",
      "[1, 2, 3, 4, 5, 6, 7]\n",
      "[10, 'hello', 3.14, True]\n"
     ]
    }
   ],
   "source": [
    "# Creating Lists\n",
    "\n",
    "# Empty List \n",
    "emptry_list = []\n",
    "\n",
    "# list of integers\n",
    "numbers = [1,2,3,4,5,6,7]\n",
    "\n",
    "# list of mixed data type\n",
    "mixed_list = [10,\"hello\",3.14,True]\n",
    "\n",
    "\n",
    "print(emptry_list)\n",
    "print(numbers)\n",
    "print(mixed_list)"
   ]
  },
  {
   "cell_type": "code",
   "execution_count": 2,
   "metadata": {},
   "outputs": [
    {
     "name": "stdout",
     "output_type": "stream",
     "text": [
      "10\n",
      "30\n"
     ]
    }
   ],
   "source": [
    "# Accessing Elements \n",
    "\n",
    "numbers = [10,20,30,40,50]\n",
    "\n",
    "first_element = numbers[0] #10\n",
    "third_element = numbers[2] #30\n",
    "\n",
    "print(first_element)\n",
    "print(third_element)\n"
   ]
  },
  {
   "cell_type": "code",
   "execution_count": 3,
   "metadata": {},
   "outputs": [
    {
     "data": {
      "text/plain": [
       "2"
      ]
     },
     "execution_count": 3,
     "metadata": {},
     "output_type": "execute_result"
    }
   ],
   "source": [
    "# Modifying Lists:\n",
    "numbers = [1,2,3,4,5,6]\n",
    "\n",
    "numbers[2] = 10 # modify the third elements to 10\n",
    "\n",
    "numbers.append(6) # add 6 at the end of the list\n",
    "\n",
    "numbers.pop(1) # remove the elements at index 1 (removes 2 in this case )\n"
   ]
  },
  {
   "cell_type": "code",
   "execution_count": 5,
   "metadata": {},
   "outputs": [
    {
     "name": "stdout",
     "output_type": "stream",
     "text": [
      "[3, 4, 5, 6]\n"
     ]
    }
   ],
   "source": [
    "# list slicing\n",
    "\n",
    "numbers = [1, 2, 3, 4, 5, 6, 7, 8, 9, 10]\n",
    "\n",
    "sub_list = numbers[2:6]   # [3, 4, 5, 6]\n",
    "\n",
    "print(sub_list)\n"
   ]
  },
  {
   "cell_type": "code",
   "execution_count": 7,
   "metadata": {},
   "outputs": [
    {
     "name": "stdout",
     "output_type": "stream",
     "text": [
      "['java', 'python']\n"
     ]
    }
   ],
   "source": [
    "# example : - \n",
    "size = int(input('Enter List Size : '))\n",
    "data = []\n",
    "for i in range(size):\n",
    "    i = input(\"enter item into list... \")\n",
    "    data.append(i)\n",
    "\n",
    "print(data)"
   ]
  }
 ],
 "metadata": {
  "kernelspec": {
   "display_name": "Python 3",
   "language": "python",
   "name": "python3"
  },
  "language_info": {
   "codemirror_mode": {
    "name": "ipython",
    "version": 3
   },
   "file_extension": ".py",
   "mimetype": "text/x-python",
   "name": "python",
   "nbconvert_exporter": "python",
   "pygments_lexer": "ipython3",
   "version": "3.10.8"
  },
  "orig_nbformat": 4
 },
 "nbformat": 4,
 "nbformat_minor": 2
}

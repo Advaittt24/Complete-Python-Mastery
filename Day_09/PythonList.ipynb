{
 "cells": [
  {
   "cell_type": "code",
   "execution_count": 4,
   "metadata": {},
   "outputs": [
    {
     "name": "stdout",
     "output_type": "stream",
     "text": [
      "[]\n",
      "[1, 2, 3, 4, 5, 6, 7]\n",
      "[10, 'hello', 3.14, True]\n"
     ]
    }
   ],
   "source": [
    "# Creating Lists\n",
    "\n",
    "# Empty List \n",
    "emptry_list = []\n",
    "\n",
    "# list of integers\n",
    "numbers = [1,2,3,4,5,6,7]\n",
    "\n",
    "# list of mixed data type\n",
    "mixed_list = [10,\"hello\",3.14,True]\n",
    "\n",
    "\n",
    "print(emptry_list)\n",
    "print(numbers)\n",
    "print(mixed_list)"
   ]
  },
  {
   "cell_type": "code",
   "execution_count": 5,
   "metadata": {},
   "outputs": [
    {
     "name": "stdout",
     "output_type": "stream",
     "text": [
      "10\n",
      "30\n",
      "40\n",
      "go\n"
     ]
    }
   ],
   "source": [
    "# Accessing Elements \n",
    "#           -5.-4.-3.-2.-1\n",
    "numbers =  [10,20,30,40,50]\n",
    "#           0  1  2  3  4 index \n",
    "first_element = numbers[0] #10\n",
    "third_element = numbers[2] #30\n",
    "\n",
    "print(first_element)\n",
    "print(third_element)\n",
    "print(numbers[-2])\n",
    "\n",
    "\n",
    "course = ['java','c++','go','ruby']\n",
    "\n",
    "print(course[2])"
   ]
  },
  {
   "cell_type": "code",
   "execution_count": 6,
   "metadata": {},
   "outputs": [
    {
     "data": {
      "text/plain": [
       "2"
      ]
     },
     "execution_count": 6,
     "metadata": {},
     "output_type": "execute_result"
    }
   ],
   "source": [
    "# Modifying Lists:\n",
    "numbers = [1,2,3,4,5,6]\n",
    "\n",
    "numbers[2] = 10 # modify the third elements to 10\n",
    "\n",
    "numbers.append(6) # add 6 at the end of the list\n",
    "\n",
    "numbers.pop(1) # remove the elements at index 1 (removes 2 in this case )\n"
   ]
  },
  {
   "cell_type": "code",
   "execution_count": 11,
   "metadata": {},
   "outputs": [
    {
     "name": "stdout",
     "output_type": "stream",
     "text": [
      "[3, 4, 5, 6]\n",
      "[3, 4, 5, 6, 7, 8, 9, 10]\n",
      "[1, 2, 3, 4]\n",
      "[1, 2, 3, 4, 5, 6, 7]\n",
      "[7, 8, 9, 10]\n",
      "[1, 2, 3, 4, 5, 6, 7, 8, 9, 10]\n"
     ]
    }
   ],
   "source": [
    "# Slicing of a Python List\n",
    "\n",
    "numbers = [1, 2, 3, 4, 5, 6, 7, 8, 9, 10]\n",
    "\n",
    "sub_list = numbers[2:6]   # [3, 4, 5, 6]\n",
    "print(sub_list)\n",
    "\n",
    "print(numbers[2:])\n",
    "print(numbers[:4])\n",
    "print(numbers[:-3])\n",
    "print(numbers[-4:])\n",
    "print(numbers[:])"
   ]
  },
  {
   "cell_type": "code",
   "execution_count": 13,
   "metadata": {},
   "outputs": [
    {
     "name": "stdout",
     "output_type": "stream",
     "text": [
      "Before Append: [21, 34, 54, 12]\n",
      "After Append: [21, 34, 54, 12, 32]\n",
      "After Append: [21, 34, 54, 12, 32, 'two']\n"
     ]
    }
   ],
   "source": [
    "# Add Elements to a Python List\n",
    "\n",
    "# 1. Using append()\n",
    "\n",
    "numbers = [21, 34, 54, 12]\n",
    "\n",
    "print(\"Before Append:\", numbers)\n",
    "\n",
    "\n",
    "# using append method\n",
    "numbers.append(32)\n",
    "\n",
    "print(\"After Append:\", numbers)\n",
    "\n",
    "# using append method\n",
    "numbers.append('two')\n",
    "\n",
    "print(\"After Append:\", numbers)"
   ]
  },
  {
   "cell_type": "code",
   "execution_count": 16,
   "metadata": {},
   "outputs": [
    {
     "name": "stdout",
     "output_type": "stream",
     "text": [
      "List1: [2, 3, 5]\n",
      "List2: [4, 6, 8]\n",
      "List after append: [2, 3, 5, 4, 6, 8]\n",
      "Food -  ['samosa', 'kachori', 'fafda']\n",
      "Update - List :  ['samosa', 'kachori', 'fafda', 100, 200, 300]\n"
     ]
    }
   ],
   "source": [
    "# 2. Using extend() \n",
    "\n",
    "prime_numbers = [2, 3, 5]\n",
    "\n",
    "print(\"List1:\", prime_numbers)\n",
    "\n",
    "\n",
    "even_numbers = [4, 6, 8]\n",
    "print(\"List2:\", even_numbers)\n",
    "\n",
    "\n",
    "# join two lists\n",
    "prime_numbers.extend(even_numbers)\n",
    "\n",
    "print(\"List after append:\", prime_numbers)\n",
    "\n",
    "# Example 2\n",
    "\n",
    "food = ['samosa','kachori','fafda']\n",
    "print('Food - ',food)\n",
    "\n",
    "price = [100,200,300]\n",
    "\n",
    "food.extend(price)\n",
    "print('Update - List : ',food)"
   ]
  },
  {
   "cell_type": "code",
   "execution_count": 19,
   "metadata": {},
   "outputs": [
    {
     "name": "stdout",
     "output_type": "stream",
     "text": [
      "befor update -  ['Python', 'Swift', 'C++']\n",
      "after update -  ['Python', 'Swift', 'C']\n"
     ]
    }
   ],
   "source": [
    "# Change List Items\n",
    "\n",
    "languages = ['Python', 'Swift', 'C++']\n",
    "\n",
    "print('befor update - ',languages)\n",
    "\n",
    "# changing the third item to 'C'\n",
    "\n",
    "languages[2] = 'C'\n",
    "\n",
    "print('after update - ',languages)  # ['Python', 'Swift', 'C']"
   ]
  },
  {
   "cell_type": "code",
   "execution_count": 21,
   "metadata": {},
   "outputs": [
    {
     "name": "stdout",
     "output_type": "stream",
     "text": [
      "befor delete  ['Python', 'Swift', 'C++', 'C', 'Java', 'Rust', 'R']\n",
      "['Python', 'C++', 'C', 'Java', 'Rust', 'R']\n",
      "['Python', 'C++', 'C', 'Java', 'Rust']\n",
      "['C', 'Java', 'Rust']\n"
     ]
    }
   ],
   "source": [
    "# Remove an Item From a List\n",
    "\n",
    "languages = ['Python', 'Swift', 'C++', 'C', 'Java', 'Rust', 'R']\n",
    "\n",
    "print('befor delete ',languages)\n",
    "\n",
    "# deleting the second item\n",
    "\n",
    "del languages[1]\n",
    "\n",
    "print(languages) # ['Python', 'C++', 'C', 'Java', 'Rust', 'R']\n",
    "\n",
    "\n",
    "# deleting the last item\n",
    "\n",
    "del languages[-1]\n",
    "\n",
    "print(languages) # ['Python', 'C++', 'C', 'Java', 'Rust']\n",
    "\n",
    "\n",
    "# delete first two items\n",
    "\n",
    "del languages[0 : 2]  # ['C', 'Java', 'Rust']\n",
    "\n",
    "print(languages)"
   ]
  },
  {
   "cell_type": "code",
   "execution_count": 22,
   "metadata": {},
   "outputs": [
    {
     "name": "stdout",
     "output_type": "stream",
     "text": [
      "['Swift', 'C++', 'C', 'Java', 'Rust', 'R']\n"
     ]
    }
   ],
   "source": [
    "# 2. Using remove()\n",
    "\n",
    "languages = ['Python', 'Swift', 'C++', 'C', 'Java', 'Rust', 'R']\n",
    "\n",
    "\n",
    "# remove 'Python' from the list\n",
    "\n",
    "languages.remove('Python')\n",
    "\n",
    "print(languages) # ['Swift', 'C++', 'C', 'Java', 'Rust', 'R']"
   ]
  },
  {
   "cell_type": "code",
   "execution_count": 23,
   "metadata": {},
   "outputs": [
    {
     "name": "stdout",
     "output_type": "stream",
     "text": [
      "Python\n",
      "Swift\n",
      "C++\n",
      "C\n",
      "Java\n",
      "Rust\n",
      "R\n"
     ]
    }
   ],
   "source": [
    "# Iterating through a List\n",
    "\n",
    "languages = ['Python', 'Swift', 'C++', 'C', 'Java', 'Rust', 'R']\n",
    "\n",
    "for i in languages:\n",
    "    print(i)"
   ]
  },
  {
   "cell_type": "code",
   "execution_count": 24,
   "metadata": {},
   "outputs": [
    {
     "name": "stdout",
     "output_type": "stream",
     "text": [
      "False\n",
      "True\n"
     ]
    }
   ],
   "source": [
    "# Check if an Item Exists in the Python List\n",
    "\n",
    "languages = ['Python', 'Swift', 'C++']\n",
    "\n",
    "\n",
    "print('C' in languages)    # False\n",
    "\n",
    "print('Python' in languages)    # True"
   ]
  },
  {
   "cell_type": "code",
   "execution_count": 25,
   "metadata": {},
   "outputs": [
    {
     "name": "stdout",
     "output_type": "stream",
     "text": [
      "List:  ['Python', 'Swift', 'C++']\n",
      "Total Elements:  3\n"
     ]
    }
   ],
   "source": [
    "# Python List Length\n",
    "\n",
    "languages = ['Python', 'Swift', 'C++']\n",
    "\n",
    "\n",
    "print(\"List: \", languages)\n",
    "\n",
    "print(\"Total Elements: \", len(languages))    # 3"
   ]
  },
  {
   "cell_type": "code",
   "execution_count": 26,
   "metadata": {},
   "outputs": [
    {
     "name": "stdout",
     "output_type": "stream",
     "text": [
      "[1, 4, 9, 16, 25]\n"
     ]
    }
   ],
   "source": [
    "# Python List Comprehension\n",
    "\n",
    "numbers = [number*number for number in range(1, 6)]\n",
    "\n",
    "\n",
    "print(numbers)    \n",
    "\n",
    "# Output: [1, 4, 9, 16, 25]"
   ]
  }
 ],
 "metadata": {
  "kernelspec": {
   "display_name": "Python 3",
   "language": "python",
   "name": "python3"
  },
  "language_info": {
   "codemirror_mode": {
    "name": "ipython",
    "version": 3
   },
   "file_extension": ".py",
   "mimetype": "text/x-python",
   "name": "python",
   "nbconvert_exporter": "python",
   "pygments_lexer": "ipython3",
   "version": "3.10.8"
  },
  "orig_nbformat": 4
 },
 "nbformat": 4,
 "nbformat_minor": 2
}

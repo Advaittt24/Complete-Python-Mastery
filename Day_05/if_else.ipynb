{
 "cells": [
  {
   "cell_type": "code",
   "execution_count": null,
   "metadata": {},
   "outputs": [],
   "source": [
    "# if...else statement\n",
    "\n",
    "#if condition:\n",
    "    # code block if the condition is true \n",
    "#else:\n",
    "    #code block if the condition is false    \n"
   ]
  },
  {
   "cell_type": "code",
   "execution_count": 2,
   "metadata": {},
   "outputs": [
    {
     "name": "stdout",
     "output_type": "stream",
     "text": [
      "the number is negative ...\n"
     ]
    }
   ],
   "source": [
    "# Example checking if number is positive or negative \n",
    "\n",
    "num = -5\n",
    "\n",
    "if num >= 0:\n",
    "    print(\"the number is positive ....\")\n",
    "else:\n",
    "    print(\"the number is negative ...\")"
   ]
  },
  {
   "cell_type": "code",
   "execution_count": 5,
   "metadata": {},
   "outputs": [
    {
     "name": "stdout",
     "output_type": "stream",
     "text": [
      "Grade : Fail\n"
     ]
    }
   ],
   "source": [
    "# Example : Grading System \n",
    "# logic =  Greater 90 = Grade A\n",
    "# logic =  Greater 80 = Grade B\n",
    "# logic =  Greater 70 = Grade C\n",
    "# logic =  Greater 60 = Grade D\n",
    "# logic =  Less  60 = Grade F\n",
    "\n",
    "score = 30\n",
    "if score >= 90:\n",
    "    print(\"Grade : A\")\n",
    "elif score >= 80:\n",
    "    print(\"Grade : B\") \n",
    "elif score >= 70:\n",
    "    print(\"Grade : C\")\n",
    "elif score >= 60:\n",
    "    print(\"Grade : D\") \n",
    "else:\n",
    "    print(\"Grade : Fail\")        \n"
   ]
  }
 ],
 "metadata": {
  "kernelspec": {
   "display_name": "Python 3",
   "language": "python",
   "name": "python3"
  },
  "language_info": {
   "codemirror_mode": {
    "name": "ipython",
    "version": 3
   },
   "file_extension": ".py",
   "mimetype": "text/x-python",
   "name": "python",
   "nbconvert_exporter": "python",
   "pygments_lexer": "ipython3",
   "version": "3.10.8"
  },
  "orig_nbformat": 4
 },
 "nbformat": 4,
 "nbformat_minor": 2
}

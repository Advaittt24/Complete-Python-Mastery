{
 "cells": [
  {
   "cell_type": "code",
   "execution_count": 8,
   "metadata": {},
   "outputs": [
    {
     "name": "stdout",
     "output_type": "stream",
     "text": [
      "Content has been written to the file.\n"
     ]
    }
   ],
   "source": [
    "# Writing to a File \n",
    "# Open the file in write mode\n",
    "with open(\"p4n.txt\",\"w\") as file:\n",
    "    # Write content to the file\n",
    "    file.write(\"www.codeswithpankaj.com\\n\")\n",
    "    file.write(\"learning python with @p4n.\\n\")\n",
    "    file.write(\"www.p4n.in.\\n\")\n",
    "\n",
    "print(\"Content has been written to the file.\")"
   ]
  },
  {
   "cell_type": "code",
   "execution_count": 9,
   "metadata": {},
   "outputs": [
    {
     "name": "stdout",
     "output_type": "stream",
     "text": [
      "www.codeswithpankaj.com\n",
      "learning python with @p4n.\n",
      "www.p4n.in.\n",
      "\n"
     ]
    }
   ],
   "source": [
    "# File Operation\n",
    "# Read File From System\n",
    "# Open the file in read mode\n",
    "with open(\"p4n.txt\",\"r\") as file:\n",
    "    # Read the entire content of the file\n",
    "    content = file.read()\n",
    "# print the content of file \n",
    "print(content)    "
   ]
  },
  {
   "cell_type": "code",
   "execution_count": 10,
   "metadata": {},
   "outputs": [
    {
     "name": "stdout",
     "output_type": "stream",
     "text": [
      "Content has been appended to the file.\n"
     ]
    }
   ],
   "source": [
    "# Appending to a File\n",
    "# Open the file in append mode\n",
    "with open(\"p4n.txt\",\"a\") as file:\n",
    "    # Append content to the file\n",
    "    file.write(\"python is best programming...\")\n",
    "print(\"Content has been appended to the file.\")    "
   ]
  },
  {
   "cell_type": "code",
   "execution_count": 14,
   "metadata": {},
   "outputs": [
    {
     "name": "stdout",
     "output_type": "stream",
     "text": [
      "Name: Alice, Age: 28, Country: USA\n",
      "Name: Bob, Age: 35, Country: Canada\n",
      "Name: Charlie, Age: 22, Country: UK\n"
     ]
    }
   ],
   "source": [
    "# Read csv file \n",
    "import csv\n",
    "# Open the CSV file for reading\n",
    "with open(\"data.csv\",\"r\") as file:\n",
    "    # create a csv reader \n",
    "    csv_reader = csv.reader(file)\n",
    "    # Skip the header row (if it exists)\n",
    "    next(csv_reader)\n",
    "    # Iterate over each row in the CSV file\n",
    "    for row in csv_reader:\n",
    "        name, age, country = row\n",
    "        print(f\"Name: {name}, Age: {age}, Country: {country}\")\n"
   ]
  }
 ],
 "metadata": {
  "kernelspec": {
   "display_name": "Python 3",
   "language": "python",
   "name": "python3"
  },
  "language_info": {
   "codemirror_mode": {
    "name": "ipython",
    "version": 3
   },
   "file_extension": ".py",
   "mimetype": "text/x-python",
   "name": "python",
   "nbconvert_exporter": "python",
   "pygments_lexer": "ipython3",
   "version": "3.10.7"
  },
  "orig_nbformat": 4
 },
 "nbformat": 4,
 "nbformat_minor": 2
}

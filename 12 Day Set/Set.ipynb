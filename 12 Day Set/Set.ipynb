{
 "cells": [
  {
   "cell_type": "code",
   "execution_count": 1,
   "metadata": {},
   "outputs": [
    {
     "name": "stdout",
     "output_type": "stream",
     "text": [
      "Student ID: {112, 114, 115, 116, 118}\n",
      "Vowel Letters: {'a', 'o', 'u', 'e', 'i'}\n",
      "Set of mixed data types: {'Bye', 'Hello', 101, -2}\n"
     ]
    }
   ],
   "source": [
    "# Create a Set in Python\n",
    "\n",
    "# create a set of integer type\n",
    "student_id = {112, 114, 116, 118, 115}\n",
    "print('Student ID:', student_id)\n",
    "\n",
    "# create a set of string type\n",
    "vowel_letters = {'a', 'e', 'i', 'o', 'u'}\n",
    "print('Vowel Letters:', vowel_letters)\n",
    "\n",
    "# create a set of mixed data types\n",
    "mixed_set = {'Hello', 101, -2, 'Bye'}\n",
    "print('Set of mixed data types:', mixed_set)"
   ]
  },
  {
   "cell_type": "code",
   "execution_count": 2,
   "metadata": {},
   "outputs": [
    {
     "name": "stdout",
     "output_type": "stream",
     "text": [
      "Data type of empty_set: <class 'set'>\n",
      "Data type of empty_dictionary <class 'dict'>\n"
     ]
    }
   ],
   "source": [
    "# Create an Empty Set in Python\n",
    "\n",
    "# create an empty set\n",
    "empty_set = set()\n",
    "\n",
    "# create an empty dictionary\n",
    "empty_dictionary = { }\n",
    "\n",
    "# check data type of empty_set\n",
    "print('Data type of empty_set:', type(empty_set))\n",
    "\n",
    "# check data type of dictionary_set\n",
    "print('Data type of empty_dictionary', type(empty_dictionary))"
   ]
  },
  {
   "cell_type": "code",
   "execution_count": 3,
   "metadata": {},
   "outputs": [
    {
     "name": "stdout",
     "output_type": "stream",
     "text": [
      "{2, 3, 4, 5, 6}\n"
     ]
    }
   ],
   "source": [
    "# Duplicate Items in a Set\n",
    "\n",
    "data = {2,2,2,3,4,5,5,4,5,6}\n",
    "print(data)"
   ]
  },
  {
   "cell_type": "code",
   "execution_count": 4,
   "metadata": {},
   "outputs": [
    {
     "name": "stdout",
     "output_type": "stream",
     "text": [
      "{2, 3, 4, 5, 6, 99}\n"
     ]
    }
   ],
   "source": [
    "# Add Items to a Set in Python\n",
    "data.add(99)\n",
    "print(data)"
   ]
  },
  {
   "cell_type": "code",
   "execution_count": 7,
   "metadata": {},
   "outputs": [
    {
     "name": "stdout",
     "output_type": "stream",
     "text": [
      "{'R programming', 'c', 'c++', 'python', 'java'}\n"
     ]
    }
   ],
   "source": [
    "# Update Python Set\n",
    "course = {'java','python','c','c++'}\n",
    "course.update([\"R programming\"])\n",
    "print(course)"
   ]
  },
  {
   "cell_type": "code",
   "execution_count": 8,
   "metadata": {},
   "outputs": [
    {
     "name": "stdout",
     "output_type": "stream",
     "text": [
      "{'R programming', 'c', 'c++', 'python'}\n"
     ]
    }
   ],
   "source": [
    "# Remove an Element from a Set\n",
    "course.discard('java')\n",
    "print(course)"
   ]
  },
  {
   "cell_type": "code",
   "execution_count": 14,
   "metadata": {},
   "outputs": [
    {
     "name": "stdout",
     "output_type": "stream",
     "text": [
      "5\n",
      "89\n",
      "11\n",
      "290\n"
     ]
    }
   ],
   "source": [
    "# function\n",
    "# len()\tReturns the length (the number of items) in the set.\n",
    "data = {'R programming', 'c', 'c++', 'python', 'java'}\n",
    "print(len(data))\n",
    "# max()\tReturns the largest item in the set.\n",
    "data = {23,33,45,67,89,11,22,22,11}\n",
    "print(max(data))\n",
    "# min()\tReturns the smallest item in the set.\n",
    "print(min(data))\n",
    "# sum()\tReturns the sum of all elements in the set.\n",
    "print(sum(data))"
   ]
  },
  {
   "cell_type": "code",
   "execution_count": 16,
   "metadata": {},
   "outputs": [
    {
     "name": "stdout",
     "output_type": "stream",
     "text": [
      "c++\n",
      "c\n",
      "R programming\n",
      "java\n",
      "python\n"
     ]
    }
   ],
   "source": [
    "# Iterate Over a Set in Python\n",
    "data = {'R programming', 'c', 'c++', 'python', 'java'}\n",
    "for i in data:\n",
    "    print(i)"
   ]
  }
 ],
 "metadata": {
  "kernelspec": {
   "display_name": "Python 3",
   "language": "python",
   "name": "python3"
  },
  "language_info": {
   "codemirror_mode": {
    "name": "ipython",
    "version": 3
   },
   "file_extension": ".py",
   "mimetype": "text/x-python",
   "name": "python",
   "nbconvert_exporter": "python",
   "pygments_lexer": "ipython3",
   "version": "3.10.7"
  },
  "orig_nbformat": 4
 },
 "nbformat": 4,
 "nbformat_minor": 2
}

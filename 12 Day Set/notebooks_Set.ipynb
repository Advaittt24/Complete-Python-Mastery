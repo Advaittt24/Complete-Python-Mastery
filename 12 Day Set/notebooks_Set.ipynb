{
  "metadata": {
    "language_info": {
      "codemirror_mode": {
        "name": "python",
        "version": 3
      },
      "file_extension": ".py",
      "mimetype": "text/x-python",
      "name": "python",
      "nbconvert_exporter": "python",
      "pygments_lexer": "ipython3",
      "version": "3.8"
    },
    "kernelspec": {
      "name": "python",
      "display_name": "Python (Pyodide)",
      "language": "python"
    }
  },
  "nbformat_minor": 4,
  "nbformat": 4,
  "cells": [
    {
      "cell_type": "code",
      "source": "# Create a Set in Python\n\n# create a set of integer type\nstudent_id = {112, 114, 116, 118, 115}\nprint('Student ID:', student_id)\n\n# create a set of string type\nvowel_letters = {'a', 'e', 'i', 'o', 'u'}\nprint('Vowel Letters:', vowel_letters)\n\n# create a set of mixed data types\nmixed_set = {'codeswithpankaj', 101, -2, 'p4n'}\nprint('Set of mixed data types:', mixed_set)",
      "metadata": {
        "trusted": true
      },
      "execution_count": 4,
      "outputs": [
        {
          "name": "stdout",
          "text": "Student ID: {112, 114, 115, 116, 118}\nVowel Letters: {'u', 'e', 'a', 'o', 'i'}\nSet of mixed data types: {'codeswithpankaj', 101, -2, 'p4n'}\n",
          "output_type": "stream"
        }
      ]
    },
    {
      "cell_type": "code",
      "source": "# create an empty set\ndata = {}\n# create an empty dictionary\nprint(type(data))\n\n# use set() function - for empty set \ndata = set()\nprint(type(data))",
      "metadata": {
        "trusted": true
      },
      "execution_count": 6,
      "outputs": [
        {
          "name": "stdout",
          "text": "<class 'dict'>\n<class 'set'>\n",
          "output_type": "stream"
        }
      ]
    },
    {
      "cell_type": "code",
      "source": "# Duplicate Items in a Set\ndata = {1,2,2,2,2,2,3,3,3,32,54,56,7,78,8,34,23,}\nprint(data)",
      "metadata": {
        "trusted": true
      },
      "execution_count": 7,
      "outputs": [
        {
          "name": "stdout",
          "text": "{32, 1, 2, 3, 34, 7, 8, 78, 54, 23, 56}\n",
          "output_type": "stream"
        }
      ]
    },
    {
      "cell_type": "code",
      "source": "# use Add() function \n\nnumbers = {111,222,333,333,111,999}\n\nprint('before add : ',numbers)\n\nnumbers.add(777)\nprint('after add data - ',numbers)",
      "metadata": {
        "trusted": true
      },
      "execution_count": 9,
      "outputs": [
        {
          "name": "stdout",
          "text": "before add :  {111, 333, 222, 999}\nafter add data -  {999, 777, 333, 111, 222}\n",
          "output_type": "stream"
        }
      ]
    },
    {
      "cell_type": "code",
      "source": "# Update Python Set update() function - \n\ncourse = {'java','python','c','c++','c'}\n\ntopic = {'variable','class','object','set'}\n\n# update set --\ncourse.update(topic)\nprint('after update set ',course)\n\n# other way to use update using list:\n\ncourse.update(['go','php','ruby'])\nprint('update course - ',course)\n",
      "metadata": {
        "trusted": true
      },
      "execution_count": 11,
      "outputs": [
        {
          "name": "stdout",
          "text": "after update set  {'object', 'python', 'variable', 'class', 'java', 'c', 'c++', 'set'}\nupdate course -  {'object', 'python', 'variable', 'class', 'java', 'ruby', 'go', 'c', 'php', 'c++', 'set'}\n",
          "output_type": "stream"
        }
      ]
    },
    {
      "cell_type": "code",
      "source": "# discard() method using in python\n\nlanguages = {'Swift', 'Java', 'Python','go','ruby'}\nprint('Initial Set:',languages)\n\n# remove 'Java' from a set\nlanguages.discard('Java')\nprint('Set after remove():', languages)\n\n# pop()\nremoveitem = languages.pop()\nprint('after using pop() ',languages)\n\nprint('pop() item ',removeitem)\n\n# using remove()\nlanguages.remove('ruby')\nprint('after using remove - ',languages)",
      "metadata": {
        "trusted": true
      },
      "execution_count": 22,
      "outputs": [
        {
          "name": "stdout",
          "text": "Initial Set: {'Python', 'Swift', 'Java', 'go', 'ruby'}\nSet after remove(): {'Python', 'Swift', 'go', 'ruby'}\nafter using pop()  {'Swift', 'go', 'ruby'}\npop() item  Python\nafter using remove -  {'Swift', 'go'}\n",
          "output_type": "stream"
        }
      ]
    },
    {
      "cell_type": "code",
      "source": "# Iterate Over a Set in Python\nfruits = {\"Apple\", \"Peach\", \"Mango\"}\n# for loop to access each fruits\nfor fruit in fruits: \n    print(fruit)",
      "metadata": {
        "trusted": true
      },
      "execution_count": 17,
      "outputs": [
        {
          "name": "stdout",
          "text": "Apple\nPeach\nMango\n",
          "output_type": "stream"
        }
      ]
    },
    {
      "cell_type": "code",
      "source": "# Find Number of Set Elements\n# len() method\nfruits = {\"Apple\", \"Peach\", \"Mango\"}\nprint('size of set : ',len(fruits))",
      "metadata": {
        "trusted": true
      },
      "execution_count": 18,
      "outputs": [
        {
          "name": "stdout",
          "text": "size of set :  3\n",
          "output_type": "stream"
        }
      ]
    },
    {
      "cell_type": "code",
      "source": "",
      "metadata": {},
      "execution_count": null,
      "outputs": []
    }
  ]
}
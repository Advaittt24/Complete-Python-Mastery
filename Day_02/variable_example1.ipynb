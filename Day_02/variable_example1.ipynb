{
 "cells": [
  {
   "cell_type": "code",
   "execution_count": 1,
   "metadata": {},
   "outputs": [
    {
     "name": "stdout",
     "output_type": "stream",
     "text": [
      "My Name is :  joy\n",
      "My Age is :  12\n",
      "My height is :  3.5\n"
     ]
    }
   ],
   "source": [
    "# Variable Assignment\n",
    "name = \"joy\"\n",
    "age = 12\n",
    "height = 3.5\n",
    "\n",
    "print(\"My Name is : \",name)\n",
    "print(\"My Age is : \",age)\n",
    "print(\"My height is : \",height)"
   ]
  },
  {
   "cell_type": "code",
   "execution_count": 2,
   "metadata": {},
   "outputs": [],
   "source": [
    "# Variable Data Types\n",
    "\n",
    "# - int: Integer numbers (e.g., 42, -10).\n",
    "# - float: Floating-point numbers (e.g., 3.14, -0.5).\n",
    "# - str: Strings (e.g., \"Hello, World!\", 'Python').\n",
    "# - bool: Boolean values (True or False).\n",
    "# - list, tuple, set, dict`: Data structures to store multiple values.\n"
   ]
  },
  {
   "cell_type": "code",
   "execution_count": 5,
   "metadata": {},
   "outputs": [
    {
     "name": "stdout",
     "output_type": "stream",
     "text": [
      "@p4n.in\n",
      "codeswithpankaj.com\n"
     ]
    }
   ],
   "source": [
    "# Variable Reassignment\n",
    "web = \"@p4n.in\"\n",
    "print(web)\n",
    "web = \"codeswithpankaj.com\"\n",
    "print(web)"
   ]
  },
  {
   "cell_type": "code",
   "execution_count": 6,
   "metadata": {},
   "outputs": [
    {
     "name": "stdout",
     "output_type": "stream",
     "text": [
      "Your Name :  joy\n",
      "Your Age :  12\n",
      "Your Height :  4.5\n"
     ]
    }
   ],
   "source": [
    "# input from user \n",
    "\n",
    "name = str(input('Enter your name '))\n",
    "age = int(input('Enter Your age '))\n",
    "height = float(input('Enter Your height'))\n",
    "\n",
    "# print output\n",
    "print(\"Your Name : \",name)\n",
    "print(\"Your Age : \",age)\n",
    "print(\"Your Height : \",height)\n"
   ]
  },
  {
   "cell_type": "code",
   "execution_count": 10,
   "metadata": {},
   "outputs": [
    {
     "name": "stdout",
     "output_type": "stream",
     "text": [
      "your result is :  366\n"
     ]
    }
   ],
   "source": [
    "# Example 1\n",
    "\n",
    "number1 = int(input('Enter Number 1 - '))\n",
    "number2 = int(input('Enter Number 2 - '))\n",
    "result = number1 + number2\n",
    "print(\"your result is : \",result)"
   ]
  }
 ],
 "metadata": {
  "kernelspec": {
   "display_name": "Python 3 (ipykernel)",
   "language": "python",
   "name": "python3"
  },
  "language_info": {
   "codemirror_mode": {
    "name": "ipython",
    "version": 3
   },
   "file_extension": ".py",
   "mimetype": "text/x-python",
   "name": "python",
   "nbconvert_exporter": "python",
   "pygments_lexer": "ipython3",
   "version": "3.10.8"
  }
 },
 "nbformat": 4,
 "nbformat_minor": 4
}

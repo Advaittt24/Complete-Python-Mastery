{
 "cells": [
  {
   "cell_type": "code",
   "execution_count": 1,
   "metadata": {},
   "outputs": [
    {
     "name": "stdout",
     "output_type": "stream",
     "text": [
      "My Name is :  joy\n",
      "My Age is :  12\n",
      "My height is :  3.5\n"
     ]
    }
   ],
   "source": [
    "name = \"joy\"\n",
    "age = 12\n",
    "height = 3.5\n",
    "\n",
    "print(\"My Name is : \",name)\n",
    "print(\"My Age is : \",age)\n",
    "print(\"My height is : \",height)"
   ]
  },
  {
   "cell_type": "code",
   "execution_count": 2,
   "metadata": {},
   "outputs": [
    {
     "name": "stdin",
     "output_type": "stream",
     "text": [
      "Enter Your Name  pankaj\n",
      "Enter Your Name  45\n",
      "Enter Your Name  44\n"
     ]
    },
    {
     "name": "stdout",
     "output_type": "stream",
     "text": [
      "My Name is :  pankaj\n",
      "My Age is :  45\n",
      "My height is :  44.0\n"
     ]
    }
   ],
   "source": [
    "name = str(input(\"Enter Your Name \"))\n",
    "age = int(input(\"Enter Your age \"))\n",
    "height = float(input(\"Enter Your height \"))\n",
    "\n",
    "print(\"My Name is : \",name)\n",
    "print(\"My Age is : \",age)\n",
    "print(\"My height is : \",height)"
   ]
  },
  {
   "cell_type": "code",
   "execution_count": null,
   "metadata": {},
   "outputs": [],
   "source": []
  }
 ],
 "metadata": {
  "kernelspec": {
   "display_name": "Python 3 (ipykernel)",
   "language": "python",
   "name": "python3"
  },
  "language_info": {
   "codemirror_mode": {
    "name": "ipython",
    "version": 3
   },
   "file_extension": ".py",
   "mimetype": "text/x-python",
   "name": "python",
   "nbconvert_exporter": "python",
   "pygments_lexer": "ipython3",
   "version": "3.10.8"
  }
 },
 "nbformat": 4,
 "nbformat_minor": 4
}

{
  "metadata": {
    "language_info": {
      "codemirror_mode": {
        "name": "python",
        "version": 3
      },
      "file_extension": ".py",
      "mimetype": "text/x-python",
      "name": "python",
      "nbconvert_exporter": "python",
      "pygments_lexer": "ipython3",
      "version": "3.8"
    },
    "kernelspec": {
      "name": "python",
      "display_name": "Python (Pyodide)",
      "language": "python"
    }
  },
  "nbformat_minor": 4,
  "nbformat": 4,
  "cells": [
    {
      "cell_type": "code",
      "source": "# basic syntax of a dictionary \nmy_dict = {\n    \"key1\": \"value1\",\n    \"key2\": \"value2\",\n    \"key3\": \"value3\"\n}\n\nprint(my_dict)",
      "metadata": {
        "trusted": true
      },
      "execution_count": 1,
      "outputs": [
        {
          "name": "stdout",
          "text": "{'key1': 'value1', 'key2': 'value2', 'key3': 'value3'}\n",
          "output_type": "stream"
        }
      ]
    },
    {
      "cell_type": "code",
      "source": "# empty dictionary\ndata = {}\nprint(type(data))\n# dictionary with data \n\ndata = {'name':'joy','age':12}\nprint(data)",
      "metadata": {
        "trusted": true
      },
      "execution_count": 5,
      "outputs": [
        {
          "name": "stdout",
          "text": "<class 'dict'>\n{'name': 'joy', 'age': 12}\n",
          "output_type": "stream"
        }
      ]
    },
    {
      "cell_type": "code",
      "source": "student = {\n    \"name\": \"John\",\n    \"age\": 20,\n    \"grade\": \"A\"\n}\n# Accessing Values:\nprint(student[\"name\"])\nprint(student[\"age\"])",
      "metadata": {
        "trusted": true
      },
      "execution_count": 7,
      "outputs": [
        {
          "name": "stdout",
          "text": "John\n20\n",
          "output_type": "stream"
        }
      ]
    },
    {
      "cell_type": "code",
      "source": "# Modifying\nstudent['age'] = 12\nprint(student)",
      "metadata": {
        "trusted": true
      },
      "execution_count": 8,
      "outputs": [
        {
          "name": "stdout",
          "text": "{'name': 'John', 'age': 12, 'grade': 'A'}\n",
          "output_type": "stream"
        }
      ]
    },
    {
      "cell_type": "code",
      "source": "# Adding Items\nstudent['height'] = 4.5\nprint(student)",
      "metadata": {
        "trusted": true
      },
      "execution_count": 9,
      "outputs": [
        {
          "name": "stdout",
          "text": "{'name': 'John', 'age': 12, 'grade': 'A', 'height': 4.5}\n",
          "output_type": "stream"
        }
      ]
    },
    {
      "cell_type": "code",
      "source": "# Checking Key Existence: \nif \"grade\" in student:\n    print(\"Grade exists:\", student[\"grade\"])",
      "metadata": {
        "trusted": true
      },
      "execution_count": 12,
      "outputs": [
        {
          "name": "stdout",
          "text": "Grade exists: A\n",
          "output_type": "stream"
        }
      ]
    },
    {
      "cell_type": "code",
      "source": "# Dictionary Methods:\nstudent = {\n    \"name\": \"John\",\n    \"age\": 20,\n    \"grade\": \"A\"\n}\n# keys(): Returns a list of all keys in the dictionary.\nprint(student.keys())\n# values(): Returns a list of all values in the dictionary.\nprint(student.values())\n# items(): Returns a list of key-value pairs as tuples.\nprint(student.items())\n# get(key, default): Returns the value for a key if it exists, else returns a default value. //# Accessing Values:\nprint(student.get('name'))\n# pop(key, default): Removes and returns the value associated with the key.\nprint('dictionary before pop() ',student)\nprint(student.pop('name'))\nprint('dictionary after pop() ',student)\n",
      "metadata": {
        "trusted": true
      },
      "execution_count": 19,
      "outputs": [
        {
          "name": "stdout",
          "text": "dict_keys(['name', 'age', 'grade'])\ndict_values(['John', 20, 'A'])\ndict_items([('name', 'John'), ('age', 20), ('grade', 'A')])\nJohn\ndictionary before pop()  {'name': 'John', 'age': 20, 'grade': 'A'}\nJohn\ndictionary after pop()  {'age': 20, 'grade': 'A'}\n",
          "output_type": "stream"
        }
      ]
    },
    {
      "cell_type": "code",
      "source": "# Dictionary Comprehension\nsquared_numbers = {x: x ** 2 for x in range(1, 6)}\n# Output: {1: 1, 2: 4, 3: 9, 4: 16, 5: 25}\nprint(squared_numbers)",
      "metadata": {
        "trusted": true
      },
      "execution_count": 21,
      "outputs": [
        {
          "name": "stdout",
          "text": "{1: 1, 2: 4, 3: 9, 4: 16, 5: 25}\n",
          "output_type": "stream"
        }
      ]
    },
    {
      "cell_type": "code",
      "source": "employees = {\n    \"employee1\": {\n        \"name\": \"Alice\",\n        \"age\": 30\n    },\n    \"employee2\": {\n        \"name\": \"Bob\",\n        \"age\": 25\n    }\n}\n# Accessing Values:\nprint(employees)",
      "metadata": {
        "trusted": true
      },
      "execution_count": 23,
      "outputs": [
        {
          "name": "stdout",
          "text": "{'employee1': {'name': 'Alice', 'age': 30}, 'employee2': {'name': 'Bob', 'age': 25}}\n",
          "output_type": "stream"
        }
      ]
    },
    {
      "cell_type": "code",
      "source": "print(employees['employee2']['name'])",
      "metadata": {
        "trusted": true
      },
      "execution_count": 25,
      "outputs": [
        {
          "name": "stdout",
          "text": "Bob\n",
          "output_type": "stream"
        }
      ]
    },
    {
      "cell_type": "code",
      "source": "# Iterating Through Keys and Values:\ndata = {\n        \"Name\": \"Bangur Nagar\",\n        \"Description\": \"null\",\n        \"BranchType\": \"Sub Post Office\",\n        \"DeliveryStatus\": \"Non-Delivery\",\n        \"Circle\": \"Maharashtra\",\n        \"District\": \"Mumbai\",\n        \"Division\": \"Mumbai  North West\",\n        \"Region\": \"Mumbai\",\n        \"Block\": \"Goregaon West\",\n        \"State\": \"Maharashtra\",\n        \"Country\": \"India\",\n        \"Pincode\": \"400104\"\n      }\n\nfor i in data:\n    print(i,'=',data[i])",
      "metadata": {
        "trusted": true
      },
      "execution_count": 33,
      "outputs": [
        {
          "name": "stdout",
          "text": "Name = Bangur Nagar\nDescription = null\nBranchType = Sub Post Office\nDeliveryStatus = Non-Delivery\nCircle = Maharashtra\nDistrict = Mumbai\nDivision = Mumbai  North West\nRegion = Mumbai\nBlock = Goregaon West\nState = Maharashtra\nCountry = India\nPincode = 400104\n",
          "output_type": "stream"
        }
      ]
    },
    {
      "cell_type": "code",
      "source": "",
      "metadata": {},
      "execution_count": null,
      "outputs": []
    },
    {
      "cell_type": "code",
      "source": "",
      "metadata": {},
      "execution_count": null,
      "outputs": []
    }
  ]
}
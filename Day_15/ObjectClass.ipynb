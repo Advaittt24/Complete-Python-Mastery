{
 "cells": [
  {
   "cell_type": "code",
   "execution_count": 2,
   "metadata": {},
   "outputs": [],
   "source": [
    "# create a class \n",
    "class School:\n",
    "    def SchoolName():\n",
    "        print('AVS Public School')\n",
    "    def SchoolAddress():\n",
    "        print('Borivali West - ')    "
   ]
  },
  {
   "cell_type": "code",
   "execution_count": 4,
   "metadata": {},
   "outputs": [
    {
     "name": "stdout",
     "output_type": "stream",
     "text": [
      "AVS Public School\n",
      "Borivali West - \n",
      "AVS Public School\n",
      "Borivali West - \n"
     ]
    }
   ],
   "source": [
    "# create a object\n",
    "#objectName className \n",
    "sc = School\n",
    "# call function\n",
    "sc.SchoolName()\n",
    "sc.SchoolAddress()\n",
    "\n",
    "# without object\n",
    "School.SchoolName()\n",
    "School.SchoolAddress()"
   ]
  },
  {
   "cell_type": "code",
   "execution_count": 21,
   "metadata": {},
   "outputs": [],
   "source": [
    "# Constructors\n",
    "class Dog:\n",
    "    def __init__(self): # Constructors\n",
    "        print(\" Dog Name : Toy\")\n",
    "    def bark(self):\n",
    "        print(\" is barking!\")"
   ]
  },
  {
   "cell_type": "code",
   "execution_count": 20,
   "metadata": {},
   "outputs": [
    {
     "name": "stdout",
     "output_type": "stream",
     "text": [
      " Dog Name : Toy\n",
      " is barking!\n"
     ]
    }
   ],
   "source": [
    "d = Dog()\n",
    "d.bark()"
   ]
  }
 ],
 "metadata": {
  "kernelspec": {
   "display_name": "Python 3",
   "language": "python",
   "name": "python3"
  },
  "language_info": {
   "codemirror_mode": {
    "name": "ipython",
    "version": 3
   },
   "file_extension": ".py",
   "mimetype": "text/x-python",
   "name": "python",
   "nbconvert_exporter": "python",
   "pygments_lexer": "ipython3",
   "version": "3.10.8"
  },
  "orig_nbformat": 4
 },
 "nbformat": 4,
 "nbformat_minor": 2
}

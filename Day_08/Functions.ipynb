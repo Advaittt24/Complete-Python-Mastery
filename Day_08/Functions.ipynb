{
 "cells": [
  {
   "cell_type": "code",
   "execution_count": 3,
   "metadata": {},
   "outputs": [],
   "source": [
    "# Example 1 basic\n",
    "# --> https://www.p4n.in/python/python-functions/python-functions\n",
    "\n",
    "#def function_name():\n",
    "    # Function body - code that defines what the function does\n",
    "\n",
    "def website():\n",
    "    print('www.p4n.in')"
   ]
  },
  {
   "cell_type": "code",
   "execution_count": 5,
   "metadata": {},
   "outputs": [
    {
     "name": "stdout",
     "output_type": "stream",
     "text": [
      "www.p4n.in\n",
      "www.p4n.in\n",
      "www.p4n.in\n",
      "www.p4n.in\n"
     ]
    }
   ],
   "source": [
    "# calling function\n",
    "website()\n",
    "# calling multipal time \n",
    "website()\n",
    "website()\n",
    "website()\n"
   ]
  },
  {
   "cell_type": "code",
   "execution_count": 7,
   "metadata": {},
   "outputs": [],
   "source": [
    "# Function Argument\n",
    "\n",
    "#def function_name(parameter1, parameter2, ...):\n",
    "    # Function body - code that defines what the function does\n",
    "    # You can use the parameters inside the function to perform operations\n",
    "\n",
    "def WebsiteName(website):\n",
    "    print('Your Website is : ',website)"
   ]
  },
  {
   "cell_type": "code",
   "execution_count": 10,
   "metadata": {},
   "outputs": [
    {
     "name": "stdout",
     "output_type": "stream",
     "text": [
      "Your Website is :  www.p4n.in\n",
      "Your Website is :  www.codeswithpankaj.com\n",
      "Your Website is :  www.p4n.store\n",
      "Your Website is :  www.pn2.in\n",
      "Your Website is :  www.khojo24.com\n"
     ]
    }
   ],
   "source": [
    "# calling function \n",
    "\n",
    "WebsiteName('www.p4n.in')\n",
    "WebsiteName('www.codeswithpankaj.com')\n",
    "WebsiteName('www.p4n.store')\n",
    "WebsiteName('www.pn2.in')\n",
    "WebsiteName('www.khojo24.com')\n"
   ]
  },
  {
   "cell_type": "code",
   "execution_count": 4,
   "metadata": {},
   "outputs": [],
   "source": [
    "def mrp(price,gst):\n",
    "    GstAmount = price*gst/100\n",
    "    finalPrice = GstAmount+price\n",
    "    print('GST : ',gst,'%')\n",
    "    print('GST Amount - ',GstAmount,'₹')\n",
    "    print('final Price : ',finalPrice,'₹')"
   ]
  },
  {
   "cell_type": "code",
   "execution_count": 7,
   "metadata": {},
   "outputs": [
    {
     "name": "stdout",
     "output_type": "stream",
     "text": [
      "GST :  18 %\n",
      "GST Amount -  216.0 ₹\n",
      "final Price :  1416.0 ₹\n",
      "GST :  9 %\n",
      "GST Amount -  4110.3 ₹\n",
      "final Price :  49780.3 ₹\n"
     ]
    }
   ],
   "source": [
    "mrp(1200,18)\n",
    "mrp(45670,9)"
   ]
  },
  {
   "cell_type": "code",
   "execution_count": 12,
   "metadata": {},
   "outputs": [],
   "source": [
    "# Example 2\n",
    "\n",
    "def info(name,height,age):\n",
    "    print('Your Name is : ',name)\n",
    "    print('Your Age is : ',age)\n",
    "    print('Your height is : ',height)"
   ]
  },
  {
   "cell_type": "code",
   "execution_count": 13,
   "metadata": {},
   "outputs": [
    {
     "name": "stdout",
     "output_type": "stream",
     "text": [
      "Your Name is :  joy\n",
      "Your Age is :  12\n",
      "Your height is :  4.5\n"
     ]
    }
   ],
   "source": [
    "info('joy',4.5,12)"
   ]
  },
  {
   "cell_type": "code",
   "execution_count": 14,
   "metadata": {},
   "outputs": [],
   "source": [
    "# Write a Program to Check Whether a Number is Even or Odd (using function)\n",
    "\n",
    "def CheckEvenOdd(Number):\n",
    "    if Number%2 == 0 :\n",
    "        print(Number, \"--- is Even\")\n",
    "    else:\n",
    "        print(Number, \"--- is Odd\")    \n",
    "    "
   ]
  },
  {
   "cell_type": "code",
   "execution_count": 17,
   "metadata": {},
   "outputs": [
    {
     "name": "stdout",
     "output_type": "stream",
     "text": [
      "23 --- is Odd\n",
      "2334324 --- is Even\n",
      "2311 --- is Odd\n"
     ]
    }
   ],
   "source": [
    "CheckEvenOdd(23)\n",
    "CheckEvenOdd(2334324)\n",
    "CheckEvenOdd(2311)"
   ]
  }
 ],
 "metadata": {
  "kernelspec": {
   "display_name": "Python 3",
   "language": "python",
   "name": "python3"
  },
  "language_info": {
   "codemirror_mode": {
    "name": "ipython",
    "version": 3
   },
   "file_extension": ".py",
   "mimetype": "text/x-python",
   "name": "python",
   "nbconvert_exporter": "python",
   "pygments_lexer": "ipython3",
   "version": "3.10.8"
  },
  "orig_nbformat": 4
 },
 "nbformat": 4,
 "nbformat_minor": 2
}

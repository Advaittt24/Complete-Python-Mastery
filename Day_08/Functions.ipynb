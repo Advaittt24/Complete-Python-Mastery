{
 "cells": [
  {
   "cell_type": "code",
   "execution_count": 5,
   "metadata": {},
   "outputs": [],
   "source": [
    "# Example 1 basic\n",
    "\n",
    "def info():\n",
    "    print('Website Name : ',\"www.p4n.in\") "
   ]
  },
  {
   "cell_type": "code",
   "execution_count": 6,
   "metadata": {},
   "outputs": [
    {
     "name": "stdout",
     "output_type": "stream",
     "text": [
      "Website Name :  www.p4n.in\n",
      "Website Name :  www.p4n.in\n"
     ]
    }
   ],
   "source": [
    "# calling function\n",
    "info()\n",
    "info()"
   ]
  },
  {
   "cell_type": "code",
   "execution_count": 8,
   "metadata": {},
   "outputs": [],
   "source": [
    "# Function Argument\n",
    "def website(web):\n",
    "    print('Website : -',web)"
   ]
  },
  {
   "cell_type": "code",
   "execution_count": 9,
   "metadata": {},
   "outputs": [
    {
     "name": "stdout",
     "output_type": "stream",
     "text": [
      "Website : - www.p4n.in\n",
      "Website : - www.codeswithpankaj.com\n"
     ]
    }
   ],
   "source": [
    "# calling \n",
    "website('www.p4n.in')\n",
    "website('www.codeswithpankaj.com')"
   ]
  },
  {
   "cell_type": "code",
   "execution_count": 4,
   "metadata": {},
   "outputs": [],
   "source": [
    "def mrp(price,gst):\n",
    "    GstAmount = price*gst/100\n",
    "    finalPrice = GstAmount+price\n",
    "    print('GST : ',gst,'%')\n",
    "    print('GST Amount - ',GstAmount,'₹')\n",
    "    print('final Price : ',finalPrice,'₹')"
   ]
  },
  {
   "cell_type": "code",
   "execution_count": 7,
   "metadata": {},
   "outputs": [
    {
     "name": "stdout",
     "output_type": "stream",
     "text": [
      "GST :  18 %\n",
      "GST Amount -  216.0 ₹\n",
      "final Price :  1416.0 ₹\n",
      "GST :  9 %\n",
      "GST Amount -  4110.3 ₹\n",
      "final Price :  49780.3 ₹\n"
     ]
    }
   ],
   "source": [
    "mrp(1200,18)\n",
    "mrp(45670,9)"
   ]
  }
 ],
 "metadata": {
  "kernelspec": {
   "display_name": "Python 3",
   "language": "python",
   "name": "python3"
  },
  "language_info": {
   "codemirror_mode": {
    "name": "ipython",
    "version": 3
   },
   "file_extension": ".py",
   "mimetype": "text/x-python",
   "name": "python",
   "nbconvert_exporter": "python",
   "pygments_lexer": "ipython3",
   "version": "3.10.8"
  },
  "orig_nbformat": 4
 },
 "nbformat": 4,
 "nbformat_minor": 2
}

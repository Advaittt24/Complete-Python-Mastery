{
  "metadata": {
    "language_info": {
      "codemirror_mode": {
        "name": "python",
        "version": 3
      },
      "file_extension": ".py",
      "mimetype": "text/x-python",
      "name": "python",
      "nbconvert_exporter": "python",
      "pygments_lexer": "ipython3",
      "version": "3.8"
    },
    "kernelspec": {
      "name": "python",
      "display_name": "Python (Pyodide)",
      "language": "python"
    }
  },
  "nbformat_minor": 4,
  "nbformat": 4,
  "cells": [
    {
      "cell_type": "code",
      "source": "# Arithmetic Operators\n\n# Addition: +\nprint(10+40)\n# Subtraction: -\nprint(10-40)\n# Multiplication: *\nprint(10*40)\n# Division: /\nprint(145/3)\n# Modulo (Remainder): %\nprint(140 % 2)\n# Exponentiation: **\nprint(145**3)\n# Floor Division: //\nprint(145//3)\n",
      "metadata": {
        "trusted": true
      },
      "execution_count": 10,
      "outputs": [
        {
          "name": "stdout",
          "text": "50\n-30\n400\n48.333333333333336\n0\n3048625\n48\n",
          "output_type": "stream"
        }
      ]
    },
    {
      "cell_type": "code",
      "source": "# Comparison Operators:\n#     Equal to: ==\nprint(45 == 56)\n#     Not equal to: !=\nprint(34 != 56)\n#     Greater than: >\nprint(34 > 56)\n#     Less than: <\nprint(34 < 56)\n#     Greater than or equal to: >=\nprint(34 >= 56)\n#     Less than or equal to: <=\nprint(34 <= 56)\n",
      "metadata": {
        "trusted": true
      },
      "execution_count": 16,
      "outputs": [
        {
          "name": "stdout",
          "text": "False\nTrue\nFalse\nTrue\nFalse\nTrue\n",
          "output_type": "stream"
        }
      ]
    },
    {
      "cell_type": "code",
      "source": "# Assignment Operators:\n\n#     Assignment: =\nnumber  = 90\nprint(number)\n#     Addition assignment: +=\n#number = number + 10\nnumber +=10\nprint(number)\n#     Subtraction assignment: -=\nnumber -=10\nprint(number)\n#     Multiplication assignment: *=\nnumber *=10\nprint(number)\n#     Division assignment: /=\nnumber /=10\nprint(number)\n#     Modulo assignment: %=\nnumber %=10\nprint(number)\n#     Exponentiation assignment: **=\nnumber **=10\nprint(number)\n#     Floor division assignment: //=\nnumber //=10\nprint(number)\n",
      "metadata": {
        "trusted": true
      },
      "execution_count": 20,
      "outputs": [
        {
          "name": "stdout",
          "text": "90\n100\n90\n900\n90.0\n0.0\n0.0\n0.0\n",
          "output_type": "stream"
        }
      ]
    },
    {
      "cell_type": "code",
      "source": "# Logical Operators:\n\n#     Logical AND: and\n#     Logical OR: or\n#     Logical NOT: not !\n\n#     Logical AND: and\n# left side | right side  = result\n#    T      |    T        =   T\n#    T      |    F        =   F\n#    F      |    T        =   F\n#    F      |    F        =   F\n\nprint( 34 < 89 and 45 > 78 )\n#         T           F\n\n#     Logical OR: or\n# left side | right side  = result\n#    T      |    T        =   T\n#    T      |    F        =   T\n#    F      |    T        =   T\n#    F      |    F        =   F\nprint( 34 < 89 or 45 > 78 )\n#         T           F\n\nprint(67 != 67)\n",
      "metadata": {
        "trusted": true
      },
      "execution_count": 30,
      "outputs": [
        {
          "name": "stdout",
          "text": "False\nTrue\nFalse\n",
          "output_type": "stream"
        }
      ]
    },
    {
      "cell_type": "code",
      "source": "# Membership Operators:\n\n#     in: Evaluates if a value is present in a sequence.\n\nmsg = 'codeswithpankaj.com'\n\nprint('r' in msg)\nprint('c' in msg)\n\n#     not in: Evaluates if a value is not present in a sequence.\n\nprint('r' not in msg)\nprint('c' not in msg)\n\n# example -1 \ndata = [45,33,22,11]\nprint(23 in data)\nprint(23 not in data)\n",
      "metadata": {
        "trusted": true
      },
      "execution_count": 33,
      "outputs": [
        {
          "name": "stdout",
          "text": "False\nTrue\nTrue\nFalse\nFalse\nTrue\n",
          "output_type": "stream"
        }
      ]
    },
    {
      "cell_type": "code",
      "source": "# Identity Operators:\n\n#     is: Evaluates if two variables refer to the same object.\n\na = 'p4n.in'\nb = 'pn2.in'\n\nprint(a is b)\n\n#     is not: Evaluates if two variables do not refer to the same object.\n\nprint(a is not b)\n",
      "metadata": {
        "trusted": true
      },
      "execution_count": 35,
      "outputs": [
        {
          "name": "stdout",
          "text": "False\nTrue\n",
          "output_type": "stream"
        }
      ]
    },
    {
      "cell_type": "code",
      "source": "",
      "metadata": {},
      "execution_count": null,
      "outputs": []
    }
  ]
}
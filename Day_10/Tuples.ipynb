{
  "metadata": {
    "language_info": {
      "codemirror_mode": {
        "name": "python",
        "version": 3
      },
      "file_extension": ".py",
      "mimetype": "text/x-python",
      "name": "python",
      "nbconvert_exporter": "python",
      "pygments_lexer": "ipython3",
      "version": "3.8"
    },
    "kernelspec": {
      "name": "python",
      "display_name": "Python (Pyodide)",
      "language": "python"
    }
  },
  "nbformat_minor": 4,
  "nbformat": 4,
  "cells": [
    {
      "cell_type": "code",
      "source": "# Empty tuple\nmy_tuple = ()\nprint(my_tuple)\n\n# Tuple having integers\nmy_tuple = (1, 2, 3)\nprint(my_tuple)\n\n# tuple with mixed datatypes\nmy_tuple = (1, \"p4n\", 3.4)\nprint(my_tuple)\n\n# nested tuple\nmy_tuple = (\"mouse\", [8, 4, 6], (1, 2, 3))\nprint(my_tuple)\n\ndata = 90,67,88,56,44,33\nprint(data)",
      "metadata": {
        "trusted": true
      },
      "execution_count": 2,
      "outputs": [
        {
          "name": "stdout",
          "text": "()\n(1, 2, 3)\n(1, 'p4n', 3.4)\n('mouse', [8, 4, 6], (1, 2, 3))\n(90, 67, 88, 56, 44, 33)\n",
          "output_type": "stream"
        }
      ]
    },
    {
      "cell_type": "code",
      "source": "# check datatype \nprint(type(data))",
      "metadata": {
        "trusted": true
      },
      "execution_count": 3,
      "outputs": [
        {
          "name": "stdout",
          "text": "<class 'tuple'>\n",
          "output_type": "stream"
        }
      ]
    },
    {
      "cell_type": "code",
      "source": "# Access Python Tuple Elements\n# accessing tuple elements using indexing\n\n#       -10   -9   -8   -7   -6   -5   -4   -3   -2   -1\ndata = ('w', 'w', 'w', '.', 'p', '4', 'n', '.', 'i', 'n')\n#        0.   1.   2.   3.   4.   5.   6.   7.   8.   9. \n\nprint(data[2]) # w\n# accessing tuple elements using negative indexing\nprint(data[-2]) # i\n\n# accessing tuple elements using slicing\nprint(data[2:5]) # output ('w', '.', 'p')\nprint(data[-9:-3]) # output ('w', 'w', '.', 'p', '4', 'n')\nprint(data[-5:]) # output ('4', 'n', '.', 'i', 'n')\nprint(data[:5]) # output ('w', 'w', 'w', '.', 'p')\nprint(data[:]) # output ('w', 'w', 'w', '.', 'p', '4', 'n', '.', 'i', 'n')\n",
      "metadata": {
        "trusted": true
      },
      "execution_count": 11,
      "outputs": [
        {
          "name": "stdout",
          "text": "w\ni\n('w', '.', 'p')\n('w', 'w', '.', 'p', '4', 'n')\n('4', 'n', '.', 'i', 'n')\n('w', 'w', 'w', '.', 'p')\n('w', 'w', 'w', '.', 'p', '4', 'n', '.', 'i', 'n')\n",
          "output_type": "stream"
        }
      ]
    },
    {
      "cell_type": "code",
      "source": "# for loop to iterate over the elements of a tuple.\nlanguages = ('Python', 'Swift', 'C++')\n\n# iterating through the tuple\nfor language in languages:\n    print(language)",
      "metadata": {
        "trusted": true
      },
      "execution_count": 12,
      "outputs": [
        {
          "name": "stdout",
          "text": "Python\nSwift\nC++\n",
          "output_type": "stream"
        }
      ]
    },
    {
      "cell_type": "code",
      "source": "# using index function into tuple index()\ndata = ('w', 'w', 'w', '.', 'p', '4', 'n', '.', 'i', 'n')\n\nprint(data.index('p')) # output 4",
      "metadata": {
        "trusted": true
      },
      "execution_count": 13,
      "outputs": [
        {
          "name": "stdout",
          "text": "4\n",
          "output_type": "stream"
        }
      ]
    },
    {
      "cell_type": "code",
      "source": "# using count function into tuple count()\ndata = ('w', 'w', 'w', '.', 'p', '4', 'n', '.', 'i', 'n')\n\nprint(data.count('w')) # output 3",
      "metadata": {
        "trusted": true
      },
      "execution_count": 15,
      "outputs": [
        {
          "name": "stdout",
          "text": "3\n",
          "output_type": "stream"
        }
      ]
    },
    {
      "cell_type": "code",
      "source": "",
      "metadata": {},
      "execution_count": null,
      "outputs": []
    }
  ]
}
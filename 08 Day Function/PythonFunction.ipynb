{
 "cells": [
  {
   "cell_type": "code",
   "execution_count": null,
   "metadata": {},
   "outputs": [],
   "source": [
    "# --> https://www.p4n.store/python/python-functions/python-functions\n",
    "\n",
    "#def function_name():\n",
    "    # Function body - code that defines what the function does"
   ]
  },
  {
   "cell_type": "code",
   "execution_count": 1,
   "metadata": {},
   "outputs": [],
   "source": [
    "def WebAddress():\n",
    "    print(\"www.codeswithpankaj.com\")\n",
    "    print(\"www.p4n.in\")"
   ]
  },
  {
   "cell_type": "code",
   "execution_count": 3,
   "metadata": {},
   "outputs": [
    {
     "name": "stdout",
     "output_type": "stream",
     "text": [
      "www.codeswithpankaj.com\n",
      "www.p4n.in\n",
      "www.codeswithpankaj.com\n",
      "www.p4n.in\n"
     ]
    }
   ],
   "source": [
    "# calling function \n",
    "WebAddress()\n",
    "WebAddress()"
   ]
  },
  {
   "cell_type": "code",
   "execution_count": 4,
   "metadata": {},
   "outputs": [],
   "source": [
    "# https://www.p4n.store/python/python-functions/python-functions#h.tpdcnui0kmvn\n",
    "\n",
    "def info(name,age,height):\n",
    "    print('My Name is : ',name)\n",
    "    print('My age is : ',age)\n",
    "    print('My height is : ',height)"
   ]
  },
  {
   "cell_type": "code",
   "execution_count": 7,
   "metadata": {},
   "outputs": [
    {
     "name": "stdout",
     "output_type": "stream",
     "text": [
      "My Name is :  Rahul\n",
      "My age is :  18\n",
      "My height is :  5.3\n",
      "My Name is :  Amina\n",
      "My age is :  20\n",
      "My height is :  5.9\n"
     ]
    }
   ],
   "source": [
    "info('Rahul',18,5.3)\n",
    "info('Amina',20,5.9)"
   ]
  },
  {
   "cell_type": "code",
   "execution_count": 10,
   "metadata": {},
   "outputs": [],
   "source": [
    "def bill(food,price,gst,qt):\n",
    "    QtPrice = price * qt\n",
    "    GstAmount = QtPrice*gst/100\n",
    "    FinalPrice = QtPrice +GstAmount\n",
    "    print('----------Bill----------')\n",
    "    print('Food - : ',food)\n",
    "    print('Food QT = ',qt)\n",
    "    print('Price = ',price,'₹')\n",
    "    print('GST : ',gst,'%')\n",
    "    print('GST = ',gst,'%',' Amount : = ',GstAmount,'₹')\n",
    "    print('Final QT Price : ',QtPrice,'₹')\n",
    "    print('Total Bill Amount : ',FinalPrice,'₹')\n",
    "    print('---------------------------') \n"
   ]
  },
  {
   "cell_type": "code",
   "execution_count": 11,
   "metadata": {},
   "outputs": [
    {
     "name": "stdout",
     "output_type": "stream",
     "text": [
      "----------Bill----------\n",
      "Food - :  samosa\n",
      "Food QT =  8\n",
      "Price =  230 ₹\n",
      "GST :  2 %\n",
      "GST =  2 %  Amount : =  36.8 ₹\n",
      "Final QT Price :  1840 ₹\n",
      "Total Bill Amount :  1876.8 ₹\n",
      "---------------------------\n",
      "----------Bill----------\n",
      "Food - :  Jalebi\n",
      "Food QT =  150\n",
      "Price =  560 ₹\n",
      "GST :  18 %\n",
      "GST =  18 %  Amount : =  15120.0 ₹\n",
      "Final QT Price :  84000 ₹\n",
      "Total Bill Amount :  99120.0 ₹\n",
      "---------------------------\n",
      "----------Bill----------\n",
      "Food - :  Toy\n",
      "Food QT =  6\n",
      "Price =  5630 ₹\n",
      "GST :  9 %\n",
      "GST =  9 %  Amount : =  3040.2 ₹\n",
      "Final QT Price :  33780 ₹\n",
      "Total Bill Amount :  36820.2 ₹\n",
      "---------------------------\n"
     ]
    }
   ],
   "source": [
    "bill('samosa',230,2,8)\n",
    "bill('Jalebi',560,18,150)\n",
    "bill('Toy',5630,9,6)"
   ]
  }
 ],
 "metadata": {
  "kernelspec": {
   "display_name": "Python 3",
   "language": "python",
   "name": "python3"
  },
  "language_info": {
   "codemirror_mode": {
    "name": "ipython",
    "version": 3
   },
   "file_extension": ".py",
   "mimetype": "text/x-python",
   "name": "python",
   "nbconvert_exporter": "python",
   "pygments_lexer": "ipython3",
   "version": "3.10.8"
  },
  "orig_nbformat": 4
 },
 "nbformat": 4,
 "nbformat_minor": 2
}

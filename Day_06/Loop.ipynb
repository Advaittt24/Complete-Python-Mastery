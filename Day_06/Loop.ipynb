{
 "cells": [
  {
   "cell_type": "code",
   "execution_count": 9,
   "metadata": {},
   "outputs": [
    {
     "name": "stdout",
     "output_type": "stream",
     "text": [
      "c\n",
      "o\n",
      "d\n",
      "e\n",
      "s\n",
      "w\n",
      "i\n",
      "t\n",
      "h\n",
      "p\n",
      "a\n",
      "n\n",
      "k\n",
      "a\n",
      "j\n"
     ]
    }
   ],
   "source": [
    "# for loop \n",
    "\n",
    "# String using\n",
    "\n",
    "msg = 'codeswithpankaj'\n",
    "\n",
    "for i in msg:\n",
    "    print(i)"
   ]
  },
  {
   "cell_type": "code",
   "execution_count": 3,
   "metadata": {},
   "outputs": [
    {
     "name": "stdout",
     "output_type": "stream",
     "text": [
      "11  - p4n.in\n",
      "12  - p4n.in\n",
      "13  - p4n.in\n",
      "14  - p4n.in\n",
      "15  - p4n.in\n",
      "16  - p4n.in\n",
      "17  - p4n.in\n",
      "18  - p4n.in\n",
      "19  - p4n.in\n"
     ]
    }
   ],
   "source": [
    "# using range(startRange , endRange)\n",
    "\n",
    "for i in range(11,20):\n",
    "    print(i,' - p4n.in')"
   ]
  },
  {
   "cell_type": "code",
   "execution_count": 4,
   "metadata": {},
   "outputs": [
    {
     "name": "stdout",
     "output_type": "stream",
     "text": [
      "0\n",
      "1\n",
      "2\n",
      "3\n",
      "4\n",
      "5\n",
      "6\n",
      "7\n",
      "8\n",
      "9\n"
     ]
    }
   ],
   "source": [
    "# using range(endRange)\n",
    "\n",
    "for i in range(10):\n",
    "    print(i)"
   ]
  },
  {
   "cell_type": "code",
   "execution_count": 6,
   "metadata": {},
   "outputs": [
    {
     "name": "stdout",
     "output_type": "stream",
     "text": [
      "22\n",
      "23\n",
      "24\n",
      "25\n"
     ]
    }
   ],
   "source": [
    "# user input using loop \n",
    "\n",
    "start = int(input('Enter Start Number ... '))\n",
    "end = int(input('Enter End Number....'))\n",
    "\n",
    "for i in range(start,end+1):\n",
    "    print(i)"
   ]
  },
  {
   "cell_type": "code",
   "execution_count": 10,
   "metadata": {},
   "outputs": [
    {
     "name": "stdout",
     "output_type": "stream",
     "text": [
      "2\n",
      "4\n",
      "6\n",
      "8\n",
      "10\n",
      "12\n",
      "14\n",
      "16\n",
      "18\n",
      "20\n"
     ]
    }
   ],
   "source": [
    "# while Loop \n",
    "\n",
    "# start point...\n",
    "# end point...\n",
    "# Derc.. ++ / --\n",
    "\n",
    "a = 1 # start \n",
    "while(a <= 10): #end\n",
    "    print(a*2)  #print output\n",
    "    a = a + 1  # ++"
   ]
  }
 ],
 "metadata": {
  "kernelspec": {
   "display_name": "Python 3",
   "language": "python",
   "name": "python3"
  },
  "language_info": {
   "codemirror_mode": {
    "name": "ipython",
    "version": 3
   },
   "file_extension": ".py",
   "mimetype": "text/x-python",
   "name": "python",
   "nbconvert_exporter": "python",
   "pygments_lexer": "ipython3",
   "version": "3.10.8"
  },
  "orig_nbformat": 4
 },
 "nbformat": 4,
 "nbformat_minor": 2
}
